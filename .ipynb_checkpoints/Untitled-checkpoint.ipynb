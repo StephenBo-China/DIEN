{
 "cells": [
  {
   "cell_type": "code",
   "execution_count": 2,
   "metadata": {},
   "outputs": [],
   "source": [
    "import tensorflow as tf\n",
    "from tensorflow.keras import layers\n",
    "from layers import AUGRU\n",
    "from activations import Dice\n",
    "import pandas as pd\n",
    "from model import DIEN\n",
    "import alibaba_data_reader as data_reader"
   ]
  },
  {
   "cell_type": "code",
   "execution_count": 3,
   "metadata": {
    "tags": []
   },
   "outputs": [
    {
     "name": "stdout",
     "output_type": "stream",
     "text": [
      "2.0.0\n",
      "GPU Available:  True\n"
     ]
    }
   ],
   "source": [
    "print(tf.__version__)\n",
    "print(\"GPU Available: \", tf.test.is_gpu_available())"
   ]
  },
  {
   "cell_type": "code",
   "execution_count": 4,
   "metadata": {},
   "outputs": [],
   "source": [
    "file_path = \"/nfs/project/boweihan_2/DIEN/dien_final/\"\n",
    "file_path = \"\""
   ]
  },
  {
   "cell_type": "code",
   "execution_count": 5,
   "metadata": {},
   "outputs": [
    {
     "data": {
      "text/html": [
       "<div>\n",
       "<style scoped>\n",
       "    .dataframe tbody tr th:only-of-type {\n",
       "        vertical-align: middle;\n",
       "    }\n",
       "\n",
       "    .dataframe tbody tr th {\n",
       "        vertical-align: top;\n",
       "    }\n",
       "\n",
       "    .dataframe thead th {\n",
       "        text-align: right;\n",
       "    }\n",
       "</style>\n",
       "<table border=\"1\" class=\"dataframe\">\n",
       "  <thead>\n",
       "    <tr style=\"text-align: right;\">\n",
       "      <th></th>\n",
       "      <th>brand</th>\n",
       "      <th>cate</th>\n",
       "      <th>cms_segid</th>\n",
       "      <th>cms_group</th>\n",
       "      <th>gender</th>\n",
       "      <th>age</th>\n",
       "      <th>pvalue</th>\n",
       "      <th>shopping</th>\n",
       "      <th>occupation</th>\n",
       "      <th>user_class_level</th>\n",
       "    </tr>\n",
       "  </thead>\n",
       "  <tbody>\n",
       "    <tr>\n",
       "      <th>0</th>\n",
       "      <td>460561</td>\n",
       "      <td>12968</td>\n",
       "      <td>97</td>\n",
       "      <td>13</td>\n",
       "      <td>2</td>\n",
       "      <td>7</td>\n",
       "      <td>3</td>\n",
       "      <td>3</td>\n",
       "      <td>2</td>\n",
       "      <td>4</td>\n",
       "    </tr>\n",
       "  </tbody>\n",
       "</table>\n",
       "</div>"
      ],
      "text/plain": [
       "    brand   cate  cms_segid  cms_group  gender  age  pvalue  shopping  \\\n",
       "0  460561  12968         97         13       2    7       3         3   \n",
       "\n",
       "   occupation  user_class_level  \n",
       "0           2                 4  "
      ]
     },
     "execution_count": 5,
     "metadata": {},
     "output_type": "execute_result"
    }
   ],
   "source": [
    "train_data, test_data, embedding_count = data_reader.get_data()\n",
    "embedding_count"
   ]
  },
  {
   "cell_type": "code",
   "execution_count": 6,
   "metadata": {},
   "outputs": [],
   "source": [
    "embedding_features_list = data_reader.get_embedding_features_list()\n",
    "user_behavior_features = data_reader.get_user_behavior_features()\n",
    "embedding_count_dict = data_reader.get_embedding_count_dict(embedding_features_list, embedding_count)\n",
    "embedding_dim_dict = data_reader.get_embedding_dim_dict(embedding_features_list)"
   ]
  },
  {
   "cell_type": "code",
   "execution_count": 7,
   "metadata": {},
   "outputs": [],
   "source": [
    "model = DIEN(embedding_count_dict, embedding_dim_dict, embedding_features_list, user_behavior_features)"
   ]
  },
  {
   "cell_type": "code",
   "execution_count": 8,
   "metadata": {},
   "outputs": [
    {
     "data": {
      "text/plain": [
       "<model.DIEN at 0x7f73f47b5110>"
      ]
     },
     "execution_count": 8,
     "metadata": {},
     "output_type": "execute_result"
    }
   ],
   "source": [
    "model"
   ]
  },
  {
   "cell_type": "code",
   "execution_count": 9,
   "metadata": {},
   "outputs": [],
   "source": [
    "min_batch = 0\n",
    "batch = 100"
   ]
  },
  {
   "cell_type": "code",
   "execution_count": 10,
   "metadata": {},
   "outputs": [],
   "source": [
    "label, target_cate, target_brand, cms_segid, cms_group, gender, age, pvalue, shopping, occupation, user_class_level, hist_brand_behavior_clk, hist_cate_behavior_clk, hist_brand_behavior_show, hist_cate_behavior_show, min_batch = data_reader.get_batch_data(train_data, min_batch, batch = batch)"
   ]
  },
  {
   "cell_type": "code",
   "execution_count": 11,
   "metadata": {},
   "outputs": [],
   "source": [
    "def get_train_data(label, target_cate, target_brand, cms_segid, cms_group, gender, age, pvalue, shopping, occupation, user_class_level, hist_brand_behavior_clk, hist_cate_behavior_clk, hist_brand_behavior_show, hist_cate_behavior_show):\n",
    "    user_profile_dict = {\n",
    "        \"cms_segid\": cms_segid,\n",
    "        \"cms_group\": cms_group,\n",
    "        \"gender\": gender,\n",
    "        \"age\": age,\n",
    "        \"pvalue\": pvalue,\n",
    "        \"shopping\": shopping,\n",
    "        \"occupation\": occupation,\n",
    "        \"user_class_level\": user_class_level\n",
    "    }\n",
    "    user_profile_list = [\"cms_segid\", \"cms_group\", \"gender\", \"age\", \"pvalue\", \"shopping\", \"occupation\", \"user_class_level\"]\n",
    "    user_behavior_list = [\"brand\", \"cate\"]\n",
    "    click_behavior_dict = {\n",
    "        \"brand\": hist_brand_behavior_clk,\n",
    "        \"cate\": hist_cate_behavior_clk\n",
    "    }\n",
    "    noclick_behavior_dict = {\n",
    "        \"brand\": hist_brand_behavior_show,\n",
    "        \"cate\": hist_cate_behavior_show\n",
    "    }\n",
    "    target_item_dict = {\n",
    "        \"brand\": target_cate,\n",
    "        \"cate\": target_brand\n",
    "    }\n",
    "    return user_profile_dict, user_profile_list, user_behavior_list, click_behavior_dict, noclick_behavior_dict, target_item_dict"
   ]
  },
  {
   "cell_type": "code",
   "execution_count": 12,
   "metadata": {},
   "outputs": [],
   "source": [
    "user_profile_dict, user_profile_list, user_behavior_list, click_behavior_dict, noclick_behavior_dict, target_item_dict = get_train_data(label, target_cate, target_brand, cms_segid, cms_group, gender, age, pvalue, shopping, occupation, user_class_level, hist_brand_behavior_clk, hist_cate_behavior_clk, hist_brand_behavior_show, hist_cate_behavior_show) "
   ]
  },
  {
   "cell_type": "code",
   "execution_count": 17,
   "metadata": {},
   "outputs": [],
   "source": [
    "log_path = \"./train_log/\"\n",
    "train_summary_writer = tf.summary.create_file_writer(log_path)"
   ]
  },
  {
   "cell_type": "code",
   "execution_count": 13,
   "metadata": {},
   "outputs": [],
   "source": [
    "optimizer = tf.keras.optimizers.Adam(lr=1e-4, beta_1=0.9, beta_2=0.999, epsilon=1e-08, decay=0.0)\n",
    "loss_metric = tf.keras.metrics.Sum()\n",
    "auc_metric = tf.keras.metrics.AUC()\n",
    "alpha = 0.1\n",
    "epochs = 1"
   ]
  },
  {
   "cell_type": "code",
   "execution_count": 14,
   "metadata": {},
   "outputs": [],
   "source": [
    "def train_one_step(user_profile_dict, user_profile_list, click_behavior_dict, target_item_dict, noclick_behavior_dict, user_behavior_list, label):\n",
    "        with tf.GradientTape() as tape:\n",
    "            output, logit, aux_loss = model(user_profile_dict, user_profile_list, click_behavior_dict, target_item_dict, noclick_behavior_dict, user_behavior_list)\n",
    "            target_loss = tf.reduce_mean(tf.nn.sigmoid_cross_entropy_with_logits(logits=logit,labels=tf.cast(label, dtype=tf.float32)))\n",
    "            final_loss = target_loss + alpha * aux_loss\n",
    "            print(\"[Train Step] aux_loss=\" + str(aux_loss.numpy()) + \", target_loss=\" + str(target_loss.numpy()) + \", final_loss=\" + str(final_loss.numpy()))\n",
    "        gradient = tape.gradient(final_loss, model.trainable_variables)\n",
    "        clip_gradient, _ = tf.clip_by_global_norm(gradient, 5.0)\n",
    "        optimizer.apply_gradients(zip(clip_gradient, model.trainable_variables))\n",
    "        loss_metric(final_loss)"
   ]
  },
  {
   "cell_type": "code",
   "execution_count": 15,
   "metadata": {},
   "outputs": [
    {
     "name": "stdout",
     "output_type": "stream",
     "text": [
      "WARNING:tensorflow:Layer dien is casting an input tensor from dtype float64 to the layer's dtype of float32, which is new behavior in TensorFlow 2.  The layer has dtype float32 because it's dtype defaults to floatx.\n",
      "\n",
      "If you intended to run this layer in float32, you can safely ignore this warning. If in doubt, this warning is likely only an issue if you are porting a TensorFlow 1.X model to TensorFlow 2.\n",
      "\n",
      "To change all layers to have dtype float64 by default, call `tf.keras.backend.set_floatx('float64')`. To change just this layer, pass dtype='float64' to the layer constructor. If you are the author of this layer, you can disable autocasting by passing autocast=False to the base Layer constructor.\n",
      "\n",
      "[Train Step] aux_loss=0.3913409, target_loss=0.82130885, final_loss=0.86044294\n"
     ]
    }
   ],
   "source": [
    "train_one_step(user_profile_dict, user_profile_list, click_behavior_dict, target_item_dict, noclick_behavior_dict, user_behavior_list, label)"
   ]
  },
  {
   "cell_type": "code",
   "execution_count": 16,
   "metadata": {},
   "outputs": [
    {
     "name": "stdout",
     "output_type": "stream",
     "text": [
      "[Train Step] aux_loss=0.3855296, target_loss=0.8167064, final_loss=0.85525936\n",
      "[Train Step] aux_loss=0.37976065, target_loss=0.81210876, final_loss=0.85008484\n",
      "[Train Step] aux_loss=0.37413013, target_loss=0.8075197, final_loss=0.8449327\n",
      "[Train Step] aux_loss=0.36847657, target_loss=0.8030801, final_loss=0.83992773\n",
      "[Train Step] aux_loss=0.36297482, target_loss=0.7987238, final_loss=0.8350213\n",
      "[Train Step] aux_loss=0.35752308, target_loss=0.79447585, final_loss=0.83022815\n",
      "[Train Step] aux_loss=0.35216174, target_loss=0.79036665, final_loss=0.8255828\n",
      "[Train Step] aux_loss=0.3468537, target_loss=0.78611207, final_loss=0.82079744\n",
      "[Train Step] aux_loss=0.34159368, target_loss=0.7821434, final_loss=0.8163028\n",
      "[Train Step] aux_loss=0.33649322, target_loss=0.7782431, final_loss=0.81189245\n",
      "[Train Step] aux_loss=0.3314233, target_loss=0.7743915, final_loss=0.8075338\n",
      "[Train Step] aux_loss=0.32646477, target_loss=0.77061075, final_loss=0.8032572\n",
      "[Train Step] aux_loss=0.32158753, target_loss=0.76698446, final_loss=0.7991432\n",
      "[Train Step] aux_loss=0.31675914, target_loss=0.76342845, final_loss=0.7951044\n",
      "[Train Step] aux_loss=0.31193796, target_loss=0.7599582, final_loss=0.791152\n",
      "[Train Step] aux_loss=0.30723187, target_loss=0.7565016, final_loss=0.7872248\n",
      "[Train Step] aux_loss=0.30263406, target_loss=0.7532735, final_loss=0.7835369\n",
      "[Train Step] aux_loss=0.2981079, target_loss=0.7501416, final_loss=0.7799524\n",
      "[Train Step] aux_loss=0.293632, target_loss=0.7471161, final_loss=0.7764793\n",
      "[Train Step] aux_loss=0.28929216, target_loss=0.7442106, final_loss=0.77313983\n",
      "[Train Step] aux_loss=0.28495654, target_loss=0.7413022, final_loss=0.76979786\n",
      "[Train Step] aux_loss=0.28075618, target_loss=0.7386166, final_loss=0.7666922\n",
      "[Train Step] aux_loss=0.27658412, target_loss=0.7358586, final_loss=0.763517\n",
      "[Train Step] aux_loss=0.27253348, target_loss=0.73338145, final_loss=0.7606348\n",
      "[Train Step] aux_loss=0.26849663, target_loss=0.73094666, final_loss=0.75779635\n",
      "[Train Step] aux_loss=0.26454642, target_loss=0.72860444, final_loss=0.75505906\n",
      "[Train Step] aux_loss=0.26069617, target_loss=0.7263952, final_loss=0.75246483\n",
      "[Train Step] aux_loss=0.25686648, target_loss=0.72419035, final_loss=0.749877\n",
      "[Train Step] aux_loss=0.25319037, target_loss=0.7220714, final_loss=0.74739045\n",
      "[Train Step] aux_loss=0.24951473, target_loss=0.7201691, final_loss=0.7451206\n",
      "[Train Step] aux_loss=0.24596779, target_loss=0.7183873, final_loss=0.74298406\n",
      "[Train Step] aux_loss=0.24238712, target_loss=0.7165021, final_loss=0.7407408\n",
      "[Train Step] aux_loss=0.23889634, target_loss=0.71486014, final_loss=0.7387498\n",
      "[Train Step] aux_loss=0.23549192, target_loss=0.7132587, final_loss=0.7368079\n",
      "[Train Step] aux_loss=0.23219919, target_loss=0.71177834, final_loss=0.7349983\n",
      "[Train Step] aux_loss=0.2288428, target_loss=0.71033424, final_loss=0.73321855\n",
      "[Train Step] aux_loss=0.22572343, target_loss=0.7090844, final_loss=0.73165673\n",
      "[Train Step] aux_loss=0.22253112, target_loss=0.7077132, final_loss=0.7299663\n",
      "[Train Step] aux_loss=0.2194441, target_loss=0.70665914, final_loss=0.72860354\n",
      "[Train Step] aux_loss=0.21641982, target_loss=0.7055121, final_loss=0.7271541\n",
      "[Train Step] aux_loss=0.2134376, target_loss=0.7044339, final_loss=0.7257777\n",
      "[Train Step] aux_loss=0.2105421, target_loss=0.7035186, final_loss=0.72457284\n",
      "[Train Step] aux_loss=0.20767158, target_loss=0.7025994, final_loss=0.72336656\n",
      "[Train Step] aux_loss=0.20485352, target_loss=0.70166266, final_loss=0.722148\n",
      "[Train Step] aux_loss=0.20193966, target_loss=0.70093703, final_loss=0.721131\n",
      "[Train Step] aux_loss=0.19935912, target_loss=0.70017606, final_loss=0.72011197\n",
      "[Train Step] aux_loss=0.19665584, target_loss=0.69950086, final_loss=0.71916646\n",
      "[Train Step] aux_loss=0.19409399, target_loss=0.6988258, final_loss=0.7182352\n",
      "[Train Step] aux_loss=0.1915196, target_loss=0.698285, final_loss=0.71743697\n",
      "[Train Step] aux_loss=0.18896317, target_loss=0.69772875, final_loss=0.7166251\n",
      "[Train Step] aux_loss=0.18657391, target_loss=0.69731337, final_loss=0.71597075\n",
      "[Train Step] aux_loss=0.18411791, target_loss=0.6968628, final_loss=0.71527463\n",
      "[Train Step] aux_loss=0.18177892, target_loss=0.6964656, final_loss=0.7146435\n",
      "[Train Step] aux_loss=0.17937095, target_loss=0.6961161, final_loss=0.7140532\n",
      "[Train Step] aux_loss=0.17714049, target_loss=0.6957814, final_loss=0.71349543\n",
      "[Train Step] aux_loss=0.17490575, target_loss=0.69535255, final_loss=0.7128431\n",
      "[Train Step] aux_loss=0.17281517, target_loss=0.6951503, final_loss=0.71243185\n",
      "[Train Step] aux_loss=0.17053787, target_loss=0.69490206, final_loss=0.71195585\n",
      "[Train Step] aux_loss=0.16842332, target_loss=0.694709, final_loss=0.7115513\n",
      "[Train Step] aux_loss=0.16633204, target_loss=0.6944535, final_loss=0.7110867\n",
      "[Train Step] aux_loss=0.16424045, target_loss=0.6942866, final_loss=0.71071064\n",
      "[Train Step] aux_loss=0.16229768, target_loss=0.69413316, final_loss=0.7103629\n",
      "[Train Step] aux_loss=0.16036773, target_loss=0.69404006, final_loss=0.7100768\n",
      "[Train Step] aux_loss=0.15841164, target_loss=0.693881, final_loss=0.70972216\n",
      "[Train Step] aux_loss=0.15646659, target_loss=0.6937834, final_loss=0.70943004\n",
      "[Train Step] aux_loss=0.15457629, target_loss=0.6936893, final_loss=0.7091469\n",
      "[Train Step] aux_loss=0.15259565, target_loss=0.69361615, final_loss=0.7088757\n",
      "[Train Step] aux_loss=0.150865, target_loss=0.6935349, final_loss=0.7086214\n",
      "[Train Step] aux_loss=0.14927429, target_loss=0.6934719, final_loss=0.70839936\n",
      "[Train Step] aux_loss=0.14740787, target_loss=0.69340086, final_loss=0.7081416\n",
      "[Train Step] aux_loss=0.14568403, target_loss=0.6933523, final_loss=0.7079207\n",
      "[Train Step] aux_loss=0.14399211, target_loss=0.6933341, final_loss=0.70773333\n",
      "[Train Step] aux_loss=0.14228116, target_loss=0.6932766, final_loss=0.7075047\n",
      "[Train Step] aux_loss=0.14073037, target_loss=0.69332886, final_loss=0.7074019\n",
      "[Train Step] aux_loss=0.13913244, target_loss=0.6931747, final_loss=0.707088\n",
      "[Train Step] aux_loss=0.13758394, target_loss=0.693213, final_loss=0.7069714\n",
      "[Train Step] aux_loss=0.13606524, target_loss=0.6932056, final_loss=0.70681214\n",
      "[Train Step] aux_loss=0.13451707, target_loss=0.693107, final_loss=0.7065587\n",
      "[Train Step] aux_loss=0.13301496, target_loss=0.6931207, final_loss=0.7064222\n",
      "[Train Step] aux_loss=0.13148797, target_loss=0.6930975, final_loss=0.70624626\n",
      "[Train Step] aux_loss=0.13008904, target_loss=0.69322944, final_loss=0.7062383\n",
      "[Train Step] aux_loss=0.12866805, target_loss=0.693194, final_loss=0.70606077\n",
      "[Train Step] aux_loss=0.12729266, target_loss=0.6932128, final_loss=0.7059421\n",
      "[Train Step] aux_loss=0.12590092, target_loss=0.6931522, final_loss=0.7057423\n",
      "[Train Step] aux_loss=0.12453332, target_loss=0.693124, final_loss=0.7055773\n",
      "[Train Step] aux_loss=0.12324782, target_loss=0.69319725, final_loss=0.70552206\n",
      "[Train Step] aux_loss=0.12185272, target_loss=0.6931518, final_loss=0.70533705\n",
      "[Train Step] aux_loss=0.12071018, target_loss=0.69315803, final_loss=0.70522904\n",
      "[Train Step] aux_loss=0.11936883, target_loss=0.69314444, final_loss=0.70508134\n",
      "[Train Step] aux_loss=0.11807547, target_loss=0.69321823, final_loss=0.7050258\n",
      "[Train Step] aux_loss=0.116902046, target_loss=0.6930818, final_loss=0.704772\n",
      "[Train Step] aux_loss=0.11572998, target_loss=0.69322157, final_loss=0.7047946\n",
      "[Train Step] aux_loss=0.11460036, target_loss=0.6931751, final_loss=0.70463514\n",
      "[Train Step] aux_loss=0.1132611, target_loss=0.6932058, final_loss=0.7045319\n",
      "[Train Step] aux_loss=0.11205722, target_loss=0.69316614, final_loss=0.70437187\n",
      "[Train Step] aux_loss=0.11105567, target_loss=0.6931581, final_loss=0.7042637\n",
      "[Train Step] aux_loss=0.11001377, target_loss=0.6931298, final_loss=0.7041311\n",
      "[Train Step] aux_loss=0.10884621, target_loss=0.6930438, final_loss=0.7039285\n",
      "[Train Step] aux_loss=0.107845806, target_loss=0.6931675, final_loss=0.7039521\n"
     ]
    }
   ],
   "source": [
    "for epoch in range(epochs):\n",
    "    min_batch = 0\n",
    "    for i in range(int(len(train_data) / batch)):\n",
    "        label, target_cate, target_brand, cms_segid, cms_group, gender, age, pvalue, shopping, occupation, user_class_level, hist_brand_behavior_clk, hist_cate_behavior_clk, hist_brand_behavior_show, hist_cate_behavior_show, min_batch = data_reader.get_batch_data(train_data, min_batch, batch = batch)\n",
    "        user_profile_dict, user_profile_list, user_behavior_list, click_behavior_dict, noclick_behavior_dict, target_item_dict = get_train_data(label, target_cate, target_brand, cms_segid, cms_group, gender, age, pvalue, shopping, occupation, user_class_level, hist_brand_behavior_clk, hist_cate_behavior_clk, hist_brand_behavior_show, hist_cate_behavior_show)\n",
    "        train_one_step(user_profile_dict, user_profile_list, click_behavior_dict, target_item_dict, noclick_behavior_dict, user_behavior_list, label)"
   ]
  },
  {
   "cell_type": "code",
   "execution_count": 37,
   "metadata": {},
   "outputs": [
    {
     "name": "stdout",
     "output_type": "stream",
     "text": [
      "dien_3/embedding_35/embeddings:0\n",
      "dien_3/embedding_31/embeddings:0\n",
      "dien_3/embedding_30/embeddings:0\n",
      "dien_3/embedding_33/embeddings:0\n",
      "dien_3/embedding_32/embeddings:0\n",
      "dien_3/embedding_34/embeddings:0\n",
      "dien_3/embedding_38/embeddings:0\n",
      "dien_3/embedding_36/embeddings:0\n",
      "dien_3/embedding_37/embeddings:0\n",
      "dien_3/embedding_39/embeddings:0\n",
      "dien_3/gru_3/kernel:0\n",
      "dien_3/gru_3/recurrent_kernel:0\n",
      "dien_3/gru_3/bias:0\n",
      "dien_3/augru_3/gru_gates_9/dense_27/kernel:0\n",
      "dien_3/augru_3/gru_gates_9/dense_27/bias:0\n",
      "dien_3/augru_3/gru_gates_9/dense_28/kernel:0\n",
      "dien_3/augru_3/gru_gates_10/dense_29/kernel:0\n",
      "dien_3/augru_3/gru_gates_10/dense_29/bias:0\n",
      "dien_3/augru_3/gru_gates_10/dense_30/kernel:0\n",
      "dien_3/augru_3/gru_gates_11/dense_31/kernel:0\n",
      "dien_3/augru_3/gru_gates_11/dense_31/bias:0\n",
      "dien_3/augru_3/gru_gates_11/dense_32/kernel:0\n",
      "dien_3/sequential_3/batch_normalization_3/gamma:0\n",
      "dien_3/sequential_3/batch_normalization_3/beta:0\n",
      "dien_3/sequential_3/dense_33/kernel:0\n",
      "dien_3/sequential_3/dense_33/bias:0\n",
      "dien_3/sequential_3/p_re_lu_6/alpha:0\n",
      "dien_3/sequential_3/dense_34/kernel:0\n",
      "dien_3/sequential_3/dense_34/bias:0\n",
      "dien_3/sequential_3/p_re_lu_7/alpha:0\n",
      "dien_3/sequential_3/dense_35/kernel:0\n",
      "dien_3/sequential_3/dense_35/bias:0\n"
     ]
    }
   ],
   "source": [
    "for var in model.trainable_variables:\n",
    "    print(var.name)"
   ]
  },
  {
   "cell_type": "code",
   "execution_count": 38,
   "metadata": {},
   "outputs": [
    {
     "data": {
      "text/plain": [
       "[<tensorflow.python.keras.layers.embeddings.Embedding at 0x7f1bf0afeed0>,\n",
       " <tensorflow.python.keras.layers.embeddings.Embedding at 0x7f1bf08a7ed0>,\n",
       " <tensorflow.python.keras.layers.embeddings.Embedding at 0x7f1bf08a7750>,\n",
       " <tensorflow.python.keras.layers.embeddings.Embedding at 0x7f1bf0d8c950>,\n",
       " <tensorflow.python.keras.layers.embeddings.Embedding at 0x7f1c8ccb15d0>,\n",
       " <tensorflow.python.keras.layers.embeddings.Embedding at 0x7f1bf0b0e550>,\n",
       " <tensorflow.python.keras.layers.embeddings.Embedding at 0x7f1bf0b11110>,\n",
       " <tensorflow.python.keras.layers.embeddings.Embedding at 0x7f1bf0afe1d0>,\n",
       " <tensorflow.python.keras.layers.embeddings.Embedding at 0x7f1bf0c56f90>,\n",
       " <tensorflow.python.keras.layers.embeddings.Embedding at 0x7f1bf0afe2d0>,\n",
       " <tensorflow.python.keras.layers.recurrent_v2.GRU at 0x7f1bf08a7fd0>,\n",
       " <layers.AUGRU at 0x7f1bf08a7310>,\n",
       " <tensorflow.python.keras.engine.sequential.Sequential at 0x7f1bf0851690>]"
      ]
     },
     "execution_count": 38,
     "metadata": {},
     "output_type": "execute_result"
    }
   ],
   "source": [
    "model.layers"
   ]
  },
  {
   "cell_type": "code",
   "execution_count": null,
   "metadata": {},
   "outputs": [],
   "source": []
  }
 ],
 "metadata": {
  "kernelspec": {
   "display_name": "Python 3.7.6 64-bit ('tensorflow_gpuenv': conda)",
   "language": "python",
   "name": "python37664bittensorflowgpuenvconda5d44b392e164457f964ae5cdabe5cb3a"
  },
  "language_info": {
   "codemirror_mode": {
    "name": "ipython",
    "version": 3
   },
   "file_extension": ".py",
   "mimetype": "text/x-python",
   "name": "python",
   "nbconvert_exporter": "python",
   "pygments_lexer": "ipython3",
   "version": "3.7.6"
  }
 },
 "nbformat": 4,
 "nbformat_minor": 4
}
